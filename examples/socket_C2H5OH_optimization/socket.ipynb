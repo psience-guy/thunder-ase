{
 "cells": [
  {
   "cell_type": "code",
   "execution_count": null,
   "id": "39766057",
   "metadata": {
    "scrolled": false
   },
   "outputs": [],
   "source": [
    "# clean last run result\n",
    "\n",
    "!('./clean.sh')"
   ]
  },
  {
   "cell_type": "code",
   "execution_count": null,
   "id": "e4616300",
   "metadata": {},
   "outputs": [],
   "source": [
    "from thunder_ase.fireball import Fireball\n",
    "import numpy as np\n",
    "import ase\n",
    "from ase.build import molecule\n",
    "import timeit"
   ]
  },
  {
   "cell_type": "code",
   "execution_count": null,
   "id": "74bfab85",
   "metadata": {},
   "outputs": [],
   "source": [
    "import sys\n",
    "from ase import units\n",
    "\n",
    "# Socket Communication\n",
    "from ase.calculators.socketio import SocketIOCalculator\n",
    "\n",
    "# ase BFGS optimization\n",
    "from ase.optimize import BFGS\n",
    "\n",
    "# ase MD modules\n",
    "from ase.md.verlet import VelocityVerlet as NVE\n",
    "from ase.md.nvtberendsen import NVTBerendsen"
   ]
  },
  {
   "cell_type": "markdown",
   "id": "0823d4c5",
   "metadata": {},
   "source": [
    "## Without Socket"
   ]
  },
  {
   "cell_type": "code",
   "execution_count": null,
   "id": "b4152d8d",
   "metadata": {},
   "outputs": [],
   "source": [
    "def run_without_socket():\n",
    "    # Construct Structure\n",
    "    atoms = molecule('CH3CH2OH')\n",
    "\n",
    "    # set Fdata dir\n",
    "    Fdata_path = '../../../Fdata/Fdata-Horsfield-0.10-9SN.Hs4.10-9DN.Cs4.35p4.80.Ns3.95p4.40.Os3.35p3.80'\n",
    "\n",
    "    max_step = 10\n",
    "    kwargs = {\n",
    "        'scf_tolerance_set':1E-8,\n",
    "    }\n",
    "    fireball = Fireball(command='fireball.9.x', Fdata_path=Fdata_path, **kwargs)\n",
    "    atoms.calc = fireball\n",
    "    dyn = BFGS(atoms, trajectory='opt.traj', logfile='opt.log')\n",
    "    dyn.run(fmax=0.01, steps=max_step)  # run until maximum force is 0.01 eV/A"
   ]
  },
  {
   "cell_type": "code",
   "execution_count": null,
   "id": "96730be1",
   "metadata": {
    "scrolled": true
   },
   "outputs": [],
   "source": [
    "timeit.timeit(run_without_socket,number=1)"
   ]
  },
  {
   "cell_type": "markdown",
   "id": "40953322",
   "metadata": {},
   "source": [
    "## With Socket\n",
    "\n",
    "With socket will save lots of time on reading Fdata."
   ]
  },
  {
   "cell_type": "code",
   "execution_count": null,
   "id": "9f82c7f0",
   "metadata": {
    "scrolled": false
   },
   "outputs": [],
   "source": [
    "!('./clean.sh')"
   ]
  },
  {
   "cell_type": "code",
   "execution_count": null,
   "id": "90588a28",
   "metadata": {},
   "outputs": [],
   "source": [
    "def run_with_socket():\n",
    "    # Construct Structure\n",
    "    atoms = molecule('CH3CH2OH')\n",
    "\n",
    "    # set Fdata dir\n",
    "    Fdata_path = '../../../Fdata/Fdata-Horsfield-0.10-9SN.Hs4.10-9DN.Cs4.35p4.80.Ns3.95p4.40.Os3.35p3.80'\n",
    "\n",
    "    # Sockets\n",
    "    unixsocket = 'thunder-ase'\n",
    "\n",
    "    max_step = 10\n",
    "    kwargs = {\n",
    "              'ipi': 1,\n",
    "              'nstepf':max_step+1,  # max step\n",
    "              'inet': 0,\n",
    "              'host': unixsocket,\n",
    "              'scf_tolerance_set':1E-8,\n",
    "              }\n",
    "    fireball = Fireball(command='fireball-ase.9.x', Fdata_path=Fdata_path, **kwargs)\n",
    "    fireball.prefix = ''\n",
    "    dyn = BFGS(atoms, trajectory='opt_socket.traj', logfile='opt_socket.log')\n",
    "\n",
    "    with SocketIOCalculator(fireball, log=None, unixsocket=unixsocket) as calc:\n",
    "        atoms.calc = calc\n",
    "        dyn.run(fmax=0.01, steps=max_step)  # run until maximum force is 0.01 eV/A"
   ]
  },
  {
   "cell_type": "code",
   "execution_count": null,
   "id": "c5b3e5b2",
   "metadata": {},
   "outputs": [],
   "source": [
    "timeit.timeit(run_with_socket,number=1)"
   ]
  },
  {
   "cell_type": "code",
   "execution_count": null,
   "id": "329b0d75",
   "metadata": {},
   "outputs": [],
   "source": []
  }
 ],
 "metadata": {
  "kernelspec": {
   "display_name": "Python [conda env:fireball_calculator]",
   "language": "python",
   "name": "conda-env-fireball_calculator-py"
  },
  "language_info": {
   "codemirror_mode": {
    "name": "ipython",
    "version": 3
   },
   "file_extension": ".py",
   "mimetype": "text/x-python",
   "name": "python",
   "nbconvert_exporter": "python",
   "pygments_lexer": "ipython3",
   "version": "3.9.15"
  }
 },
 "nbformat": 4,
 "nbformat_minor": 5
}
