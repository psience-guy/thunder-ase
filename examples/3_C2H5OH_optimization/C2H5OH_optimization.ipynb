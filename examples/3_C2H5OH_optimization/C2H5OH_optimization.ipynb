{
 "cells": [
  {
   "cell_type": "code",
   "execution_count": null,
   "id": "39766057",
   "metadata": {
    "scrolled": false
   },
   "outputs": [],
   "source": [
    "# clean last run result\n",
    "\n",
    "!('./clean.sh')"
   ]
  },
  {
   "cell_type": "code",
   "execution_count": null,
   "id": "e4616300",
   "metadata": {},
   "outputs": [],
   "source": [
    "from thunder_ase.fireball import Fireball\n",
    "import numpy as np\n",
    "import ase\n",
    "from ase.build import molecule\n",
    "import timeit"
   ]
  },
  {
   "cell_type": "code",
   "execution_count": null,
   "id": "74bfab85",
   "metadata": {},
   "outputs": [],
   "source": [
    "import sys\n",
    "from ase import units\n",
    "\n",
    "# Socket Communication\n",
    "from ase.calculators.socketio import SocketIOCalculator\n",
    "\n",
    "# ase BFGS optimization\n",
    "from ase.optimize import BFGS"
   ]
  },
  {
   "cell_type": "code",
   "execution_count": null,
   "id": "9f82c7f0",
   "metadata": {
    "scrolled": false
   },
   "outputs": [],
   "source": [
    "!('./clean.sh')"
   ]
  },
  {
   "cell_type": "code",
   "execution_count": null,
   "id": "c8693b92",
   "metadata": {},
   "outputs": [],
   "source": [
    "# Construct Structure\n",
    "atoms = molecule('CH3CH2OH')"
   ]
  },
  {
   "cell_type": "code",
   "execution_count": null,
   "id": "f1904549",
   "metadata": {},
   "outputs": [],
   "source": [
    "Fdata_path = '~/Fdata/Fdata-Horsfield-0.10-9SN.Hs4.10-9DN.Cs4.35p4.80.Ns3.95p4.40.Os3.35p3.80'"
   ]
  },
  {
   "cell_type": "code",
   "execution_count": null,
   "id": "cd897a40",
   "metadata": {},
   "outputs": [],
   "source": [
    "max_step = 10\n",
    "kwargs = {\n",
    "          'ipi': 1,  # use i-pi socket to save reading Fdata time\n",
    "          'nstepf':max_step+1,  # max step should set as this\n",
    "}"
   ]
  },
  {
   "cell_type": "code",
   "execution_count": null,
   "id": "9cebe2ac",
   "metadata": {},
   "outputs": [],
   "source": [
    "fireball = Fireball(command='fireball-ase.9.x', Fdata_path=Fdata_path, **kwargs)"
   ]
  },
  {
   "cell_type": "code",
   "execution_count": null,
   "id": "90588a28",
   "metadata": {},
   "outputs": [],
   "source": [
    "dyn = BFGS(atoms, trajectory='opt_socket.traj', logfile='opt_socket.log')\n",
    "\n",
    "socket_run(atoms, fireball, dyn, max_step)"
   ]
  }
 ],
 "metadata": {
  "kernelspec": {
   "display_name": "Python [conda env:fireball_calculator]",
   "language": "python",
   "name": "conda-env-fireball_calculator-py"
  },
  "language_info": {
   "codemirror_mode": {
    "name": "ipython",
    "version": 3
   },
   "file_extension": ".py",
   "mimetype": "text/x-python",
   "name": "python",
   "nbconvert_exporter": "python",
   "pygments_lexer": "ipython3",
   "version": "3.9.15"
  }
 },
 "nbformat": 4,
 "nbformat_minor": 5
}
