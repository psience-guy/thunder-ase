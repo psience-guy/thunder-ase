{
 "cells": [
  {
   "cell_type": "code",
   "execution_count": null,
   "id": "7d9ffed8",
   "metadata": {},
   "outputs": [],
   "source": [
    "import os"
   ]
  },
  {
   "cell_type": "code",
   "execution_count": null,
   "id": "39766057",
   "metadata": {},
   "outputs": [],
   "source": [
    "# clean last run result\n",
    "\n",
    "!('./clean.sh')"
   ]
  },
  {
   "cell_type": "code",
   "execution_count": null,
   "id": "8b11d060",
   "metadata": {},
   "outputs": [],
   "source": [
    "# add the package to import path\n",
    "\n",
    "import sys \n",
    "sys.path.append(\"../../\")"
   ]
  },
  {
   "cell_type": "code",
   "execution_count": null,
   "id": "e4616300",
   "metadata": {},
   "outputs": [],
   "source": [
    "from thunder_ase.fireball import Fireball\n",
    "import numpy as np\n",
    "import ase"
   ]
  },
  {
   "cell_type": "markdown",
   "id": "0823d4c5",
   "metadata": {},
   "source": [
    "### parameters for Si crystal"
   ]
  },
  {
   "cell_type": "code",
   "execution_count": null,
   "id": "fe422563",
   "metadata": {},
   "outputs": [],
   "source": [
    "cell = np.array([[2.715000, 2.715000, 0.000000],\n",
    "                 [2.715000, 0.000000, 2.715000],\n",
    "                 [0.000000, 2.715000, 2.715000]])\n",
    "positions = np.array([[0.0000000, 0.0000000, 0.0000000],\n",
    "                      [1.3575000, 1.3575000, 1.3575000]])"
   ]
  },
  {
   "cell_type": "code",
   "execution_count": null,
   "id": "f0491583",
   "metadata": {},
   "outputs": [],
   "source": [
    "atoms = ase.Atoms(numbers=[14, 14],\n",
    "                  cell=cell,\n",
    "                  pbc=True,\n",
    "                  positions=positions,\n",
    "                  )"
   ]
  },
  {
   "cell_type": "markdown",
   "id": "6d65de74",
   "metadata": {},
   "source": [
    "### parameters for fireball"
   ]
  },
  {
   "cell_type": "code",
   "execution_count": null,
   "id": "25547a5c",
   "metadata": {},
   "outputs": [],
   "source": [
    "# set Fdata dir\n",
    "Fdata_path='../../data/CSi.3/Fdata'"
   ]
  },
  {
   "cell_type": "code",
   "execution_count": null,
   "id": "2ebcbd47",
   "metadata": {},
   "outputs": [],
   "source": [
    "kwargs = {'kpt_size': [3, 3, 3],\n",
    "          'iwriteout_charges': 1,  # Writing out the charges.\n",
    "          'nstepi': 1,\n",
    "          'nstepf': 100,\n",
    "          'iquench': -3,\n",
    "          'taurelax': 5.0,\n",
    "          'efermi_T': 200.0,\n",
    "          'iconstraint_rcm': 1,\n",
    "          'iconstraint_vcm': 1,\n",
    "          'iconstraint_L': 0,\n",
    "          'iconstraint_KE': 1,\n",
    "          'ifix_neighbors': 0,\n",
    "          'ifix_CHARGES': 0,\n",
    "          'max_scf_iterations_set': 100,\n",
    "          'scf_tolerance_set': 0.00000001,\n",
    "          'beta_set': 0.04,\n",
    "          'Ecut_set': 200.0,\n",
    "          'rho_surface_min': 0.0005,\n",
    "          'rho_surface_max': 0.01000000,\n",
    "          }"
   ]
  },
  {
   "cell_type": "markdown",
   "id": "c2b5f842",
   "metadata": {},
   "source": [
    "### Run Fireball"
   ]
  },
  {
   "cell_type": "code",
   "execution_count": null,
   "id": "bf376a3f",
   "metadata": {},
   "outputs": [],
   "source": [
    "calc = Fireball(command='/home/ren/bin/lightning.3.x', \n",
    "                Fdata_path=Fdata_path,\n",
    "                **kwargs)\n",
    "atoms.set_calculator(calc)"
   ]
  },
  {
   "cell_type": "code",
   "execution_count": null,
   "id": "2d936913",
   "metadata": {},
   "outputs": [],
   "source": [
    "# Running this line will take about 1 min\n",
    "\n",
    "print(\"The energy is {:.3f} eV.\".format(atoms.get_potential_energy()))\n",
    "print(\"The Fermi Level is {:.3f} eV.\".format(atoms.calc.get_property('fermi')))"
   ]
  },
  {
   "cell_type": "markdown",
   "id": "36f4d80e",
   "metadata": {},
   "source": [
    "### Band structure calculation"
   ]
  },
  {
   "cell_type": "code",
   "execution_count": null,
   "id": "83872fd3",
   "metadata": {},
   "outputs": [],
   "source": [
    "lat = atoms.cell.get_bravais_lattice()\n",
    "print(list(lat.get_special_points()))"
   ]
  },
  {
   "cell_type": "code",
   "execution_count": null,
   "id": "7f1b5cdc",
   "metadata": {},
   "outputs": [],
   "source": [
    "path = lat.bandpath('GXW', npoints=100)"
   ]
  },
  {
   "cell_type": "code",
   "execution_count": null,
   "id": "969af021",
   "metadata": {},
   "outputs": [],
   "source": [
    "kwargs = {'kpt_path': path,  # VIP for band structure calculation.\n",
    "          'nstepi': 1,\n",
    "          'nstepf': 100,\n",
    "          'iquench': -3,\n",
    "          'taurelax': 5.0,\n",
    "          'efermi_T': 200.0,\n",
    "          'iconstraint_rcm': 1,\n",
    "          'iconstraint_vcm': 1,\n",
    "          'iconstraint_L': 0,\n",
    "          'iconstraint_KE': 1,\n",
    "          'ifix_neighbors': 0,\n",
    "          'ifix_CHARGES': 1,  # VIP, fix previous charges\n",
    "          'max_scf_iterations_set': 100,\n",
    "          'scf_tolerance_set': 0.00000001,\n",
    "          'beta_set': 0.04,\n",
    "          'Ecut_set': 200.0,\n",
    "          'rho_surface_min': 0.0005,\n",
    "          'rho_surface_max': 0.01000000,\n",
    "          }"
   ]
  },
  {
   "cell_type": "code",
   "execution_count": null,
   "id": "7252eaf6",
   "metadata": {},
   "outputs": [],
   "source": [
    "calc = Fireball(command='/home/ren/bin/lightning.3.x', \n",
    "                Fdata_path=Fdata_path,\n",
    "                **kwargs)\n",
    "atoms.set_calculator(calc)"
   ]
  },
  {
   "cell_type": "code",
   "execution_count": null,
   "id": "1b18cad4",
   "metadata": {},
   "outputs": [],
   "source": [
    "bs = atoms.calc.band_structure(atoms)"
   ]
  },
  {
   "cell_type": "code",
   "execution_count": null,
   "id": "41cb833b",
   "metadata": {},
   "outputs": [],
   "source": [
    "bs.plot()"
   ]
  }
 ],
 "metadata": {
  "kernelspec": {
   "display_name": "Python [conda env:fireball_calculator]",
   "language": "python",
   "name": "conda-env-fireball_calculator-py"
  },
  "language_info": {
   "codemirror_mode": {
    "name": "ipython",
    "version": 3
   },
   "file_extension": ".py",
   "mimetype": "text/x-python",
   "name": "python",
   "nbconvert_exporter": "python",
   "pygments_lexer": "ipython3",
   "version": "3.9.15"
  }
 },
 "nbformat": 4,
 "nbformat_minor": 5
}
