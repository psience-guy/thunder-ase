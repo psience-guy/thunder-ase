{
 "cells": [
  {
   "cell_type": "code",
   "execution_count": null,
   "id": "39766057",
   "metadata": {},
   "outputs": [],
   "source": [
    "# clean last run result\n",
    "\n",
    "!('./clean.sh')"
   ]
  },
  {
   "cell_type": "code",
   "execution_count": null,
   "id": "e4616300",
   "metadata": {},
   "outputs": [],
   "source": [
    "from thunder_ase.fireball import Fireball\n",
    "import numpy as np\n",
    "import ase\n",
    "from ase.build import molecule"
   ]
  },
  {
   "cell_type": "markdown",
   "id": "0823d4c5",
   "metadata": {},
   "source": [
    "## Basic Setup"
   ]
  },
  {
   "cell_type": "code",
   "execution_count": null,
   "id": "90588a28",
   "metadata": {},
   "outputs": [],
   "source": [
    "# Construct Benzene Structure\n",
    "atoms = molecule('C6H6')"
   ]
  },
  {
   "cell_type": "code",
   "execution_count": null,
   "id": "25547a5c",
   "metadata": {},
   "outputs": [],
   "source": [
    "# set Fdata dir\n",
    "Fdata_path = '../../data/Fdata-McWEDA-0.15-3SN.Hs3.75.Cs4.00p4.45.Os3.35p3.80-3SNP.Fes5.30p5.30d4.80'"
   ]
  },
  {
   "cell_type": "markdown",
   "id": "fe13eba5",
   "metadata": {},
   "source": [
    "## Example 1: Write orbital to mwfn\n",
    "\n",
    "### Set up parameters for fireball"
   ]
  },
  {
   "cell_type": "code",
   "execution_count": null,
   "id": "2ebcbd47",
   "metadata": {},
   "outputs": [],
   "source": [
    "kwargs = {'iwriteout_charges': 1,  # Writing out the charges.\n",
    "          'iwriteout_cdcoeffs': 1,  # Writing out orbital info.\n",
    "          'efermi_T': 200.0,\n",
    "          'max_scf_iterations_set': 100,\n",
    "          'scf_tolerance_set': 0.00000001,\n",
    "          }"
   ]
  },
  {
   "cell_type": "markdown",
   "id": "c2b5f842",
   "metadata": {},
   "source": [
    "### Run Fireball"
   ]
  },
  {
   "cell_type": "code",
   "execution_count": null,
   "id": "bf376a3f",
   "metadata": {},
   "outputs": [],
   "source": [
    "calc = Fireball(command='fireball.3.x', \n",
    "                Fdata_path=Fdata_path,\n",
    "                **kwargs)\n",
    "atoms.set_calculator(calc)"
   ]
  },
  {
   "cell_type": "code",
   "execution_count": null,
   "id": "2d936913",
   "metadata": {},
   "outputs": [],
   "source": [
    "# Not neccessory but recommended\n",
    "e0 = atoms.get_potential_energy()\n",
    "efermi = atoms.calc.get_fermi_level()\n",
    "\n",
    "print(\"The energy is {:.3f} eV.\".format(e0))\n",
    "print(\"The Fermi Level is {:.3f} eV.\".format(efermi))"
   ]
  },
  {
   "cell_type": "markdown",
   "id": "6788c8db",
   "metadata": {},
   "source": [
    "### Write mwfn file"
   ]
  },
  {
   "cell_type": "code",
   "execution_count": null,
   "id": "5ef54652",
   "metadata": {},
   "outputs": [],
   "source": [
    "calc.write_mwfn()"
   ]
  },
  {
   "cell_type": "markdown",
   "id": "ea1eaf62",
   "metadata": {},
   "source": [
    "### Now, run Multiwfn in terminal and load .mwfn file\n",
    "\n",
    "See more about multiwfn: http://sobereva.com/multiwfn/"
   ]
  },
  {
   "cell_type": "markdown",
   "id": "5aef38b6",
   "metadata": {},
   "source": [
    "## Example 2: Fukui function\n",
    "\n",
    "\n",
    "### Step 1: Calculate neutral systems: N electron"
   ]
  },
  {
   "cell_type": "code",
   "execution_count": null,
   "id": "ce3c2bf1",
   "metadata": {},
   "outputs": [],
   "source": [
    "# clean last run result\n",
    "\n",
    "!('./clean.sh')"
   ]
  },
  {
   "cell_type": "code",
   "execution_count": null,
   "id": "d01f3f0d",
   "metadata": {},
   "outputs": [],
   "source": [
    "kwargs = {'iwriteout_charges': 1,  # Writing out the charges.\n",
    "          'iwriteout_cdcoeffs': 1,  # Writing out orbital info.\n",
    "          'qstate': 0,  # Set charge to 0. This is also the default.\n",
    "          'efermi_T': 200.0,\n",
    "          'max_scf_iterations_set': 100,\n",
    "          'scf_tolerance_set': 0.00000001,\n",
    "          }\n",
    "\n",
    "calc = Fireball(command='fireball.3.x', \n",
    "                Fdata_path=Fdata_path,\n",
    "                **kwargs)\n",
    "\n",
    "#atoms.set_calculator(calc)\n",
    "\n",
    "calc.calculate(atoms=atoms)\n",
    "\n",
    "calc.write_mwfn(filename='N.mwfn')"
   ]
  },
  {
   "cell_type": "markdown",
   "id": "65198a23",
   "metadata": {},
   "source": [
    "### Step 2: Calculate charged systems: N + 1"
   ]
  },
  {
   "cell_type": "code",
   "execution_count": null,
   "id": "8e69e7db",
   "metadata": {},
   "outputs": [],
   "source": [
    "# clean last run result\n",
    "\n",
    "!('./clean.sh')"
   ]
  },
  {
   "cell_type": "code",
   "execution_count": null,
   "id": "dfaa6daf",
   "metadata": {},
   "outputs": [],
   "source": [
    "kwargs = {'iwriteout_charges': 1,  # Writing out the charges.\n",
    "          'iwriteout_cdcoeffs': 1,  # Writing out orbital info.\n",
    "          'qstate': 1,  # adding one electron.\n",
    "          'efermi_T': 200.0,\n",
    "          'max_scf_iterations_set': 100,\n",
    "          'scf_tolerance_set': 0.00000001,\n",
    "          }\n",
    "\n",
    "calc = Fireball(command='fireball.3.x', \n",
    "                Fdata_path=Fdata_path,\n",
    "                **kwargs)\n",
    "\n",
    "#atoms.set_calculator(calc)\n",
    "\n",
    "calc.calculate(atoms=atoms)\n",
    "\n",
    "calc.write_mwfn(filename='N+1.mwfn')"
   ]
  },
  {
   "cell_type": "markdown",
   "id": "5282b22c",
   "metadata": {},
   "source": [
    "### Step 3: Calculate charged systems: N - 1"
   ]
  },
  {
   "cell_type": "code",
   "execution_count": null,
   "id": "fc238ca4",
   "metadata": {},
   "outputs": [],
   "source": [
    "# clean last run result\n",
    "\n",
    "!('./clean.sh')"
   ]
  },
  {
   "cell_type": "code",
   "execution_count": null,
   "id": "d593cb3b",
   "metadata": {
    "scrolled": true
   },
   "outputs": [],
   "source": [
    "kwargs = {'iwriteout_charges': 1,  # Writing out the charges.\n",
    "          'iwriteout_cdcoeffs': 1,  # Writing out orbital info.\n",
    "          'qstate': -1, # deleting one electron.\n",
    "          'efermi_T': 200.0,\n",
    "          'max_scf_iterations_set': 100,\n",
    "          'scf_tolerance_set': 0.00000001,\n",
    "          }\n",
    "\n",
    "calc = Fireball(command='fireball.3.x', \n",
    "                Fdata_path=Fdata_path,\n",
    "                **kwargs)\n",
    "\n",
    "#atoms.set_calculator(calc)\n",
    "\n",
    "calc.calculate(atoms=atoms)\n",
    "\n",
    "calc.write_mwfn(filename='N-1.mwfn')"
   ]
  },
  {
   "attachments": {
    "image.png": {
     "image/png": "[encoded data removed]"
    }
   },
   "cell_type": "markdown",
   "id": "244f7159",
   "metadata": {},
   "source": [
    "### Now, run Multiwfn in terminal and load .mwfn files\n",
    "\n",
    "Multiwfn operation: Main -> 22 -> 3 -> Input name for each mwfn file -> 2 -> 4/1/2/3\n",
    "\n",
    "Then you will get:\n",
    "\n",
    "![image.png](attachment:image.png)\n",
    "\n",
    "See more about multiwfn for Fukui function calculation in the manual Part 3.25.3"
   ]
  },
  {
   "cell_type": "code",
   "execution_count": null,
   "id": "8815f386",
   "metadata": {},
   "outputs": [],
   "source": []
  }
 ],
 "metadata": {
  "kernelspec": {
   "display_name": "Python [conda env:fireball_calculator]",
   "language": "python",
   "name": "conda-env-fireball_calculator-py"
  },
  "language_info": {
   "codemirror_mode": {
    "name": "ipython",
    "version": 3
   },
   "file_extension": ".py",
   "mimetype": "text/x-python",
   "name": "python",
   "nbconvert_exporter": "python",
   "pygments_lexer": "ipython3",
   "version": "3.9.15"
  }
 },
 "nbformat": 4,
 "nbformat_minor": 5
}
