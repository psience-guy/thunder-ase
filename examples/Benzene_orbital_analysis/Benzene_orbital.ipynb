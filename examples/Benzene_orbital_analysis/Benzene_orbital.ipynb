{
 "cells": [
  {
   "cell_type": "code",
   "execution_count": null,
   "id": "39766057",
   "metadata": {},
   "outputs": [],
   "source": [
    "# clean last run result\n",
    "\n",
    "!('./clean.sh')"
   ]
  },
  {
   "cell_type": "code",
   "execution_count": null,
   "id": "e4616300",
   "metadata": {},
   "outputs": [],
   "source": [
    "from thunder_ase.fireball import Fireball\n",
    "import numpy as np\n",
    "import ase"
   ]
  },
  {
   "cell_type": "markdown",
   "id": "0823d4c5",
   "metadata": {},
   "source": [
    "### Benzene Structure"
   ]
  },
  {
   "cell_type": "code",
   "execution_count": null,
   "id": "8258aa87",
   "metadata": {},
   "outputs": [],
   "source": [
    "from ase.build import molecule"
   ]
  },
  {
   "cell_type": "code",
   "execution_count": null,
   "id": "90588a28",
   "metadata": {},
   "outputs": [],
   "source": [
    "atoms = atoms = molecule('C6H6')"
   ]
  },
  {
   "cell_type": "markdown",
   "id": "6d65de74",
   "metadata": {},
   "source": [
    "### parameters for fireball"
   ]
  },
  {
   "cell_type": "code",
   "execution_count": null,
   "id": "25547a5c",
   "metadata": {},
   "outputs": [],
   "source": [
    "# set Fdata dir\n",
    "Fdata_path = '../../data/Fdata-McWEDA-0.15-3SN.Hs3.75.Cs4.00p4.45.Os3.35p3.80-3SNP.Fes5.30p5.30d4.80'"
   ]
  },
  {
   "cell_type": "code",
   "execution_count": null,
   "id": "2ebcbd47",
   "metadata": {},
   "outputs": [],
   "source": [
    "kwargs = {'iwriteout_charges': 1,  # Writing out the charges.\n",
    "          'iwriteout_cdcoeffs': 1,  # Writing out orbital info.\n",
    "          'taurelax': 5.0,\n",
    "          'efermi_T': 200.0,\n",
    "          'ifix_CHARGES': 0,\n",
    "          'max_scf_iterations_set': 100,\n",
    "          'scf_tolerance_set': 0.00000001,\n",
    "          'beta_set': 0.04,\n",
    "          }"
   ]
  },
  {
   "cell_type": "markdown",
   "id": "c2b5f842",
   "metadata": {},
   "source": [
    "### Run Fireball"
   ]
  },
  {
   "cell_type": "code",
   "execution_count": null,
   "id": "bf376a3f",
   "metadata": {},
   "outputs": [],
   "source": [
    "calc = Fireball(command='lightning.3.x', \n",
    "                Fdata_path=Fdata_path,\n",
    "                **kwargs)\n",
    "atoms.set_calculator(calc)"
   ]
  },
  {
   "cell_type": "code",
   "execution_count": null,
   "id": "2d936913",
   "metadata": {},
   "outputs": [],
   "source": [
    "# Not neccessory but recommended\n",
    "e0 = atoms.get_potential_energy()\n",
    "efermi = atoms.calc.get_fermi_level()\n",
    "\n",
    "print(\"The energy is {:.3f} eV.\".format(e0))\n",
    "print(\"The Fermi Level is {:.3f} eV.\".format(efermi))"
   ]
  },
  {
   "cell_type": "code",
   "execution_count": null,
   "id": "5ef54652",
   "metadata": {},
   "outputs": [],
   "source": [
    "# write mwfn file\n",
    "\n",
    "calc.write_mwfn()"
   ]
  },
  {
   "cell_type": "markdown",
   "id": "ea1eaf62",
   "metadata": {},
   "source": [
    "### Run Multiwfn in terminal and load .mwfn file"
   ]
  },
  {
   "cell_type": "code",
   "execution_count": null,
   "id": "d753910b",
   "metadata": {},
   "outputs": [],
   "source": []
  }
 ],
 "metadata": {
  "kernelspec": {
   "display_name": "Python [conda env:fireball_calculator]",
   "language": "python",
   "name": "conda-env-fireball_calculator-py"
  },
  "language_info": {
   "codemirror_mode": {
    "name": "ipython",
    "version": 3
   },
   "file_extension": ".py",
   "mimetype": "text/x-python",
   "name": "python",
   "nbconvert_exporter": "python",
   "pygments_lexer": "ipython3",
   "version": "3.9.15"
  }
 },
 "nbformat": 4,
 "nbformat_minor": 5
}
