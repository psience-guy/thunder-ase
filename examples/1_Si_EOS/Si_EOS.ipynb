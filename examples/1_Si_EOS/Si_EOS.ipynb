{
 "cells": [
  {
   "cell_type": "code",
   "execution_count": null,
   "id": "7d9ffed8",
   "metadata": {},
   "outputs": [],
   "source": [
    "import os"
   ]
  },
  {
   "cell_type": "code",
   "execution_count": null,
   "id": "39766057",
   "metadata": {},
   "outputs": [],
   "source": [
    "# clean last run result\n",
    "\n",
    "!('./clean.sh')"
   ]
  },
  {
   "cell_type": "code",
   "execution_count": null,
   "id": "8b11d060",
   "metadata": {},
   "outputs": [],
   "source": [
    "# add the package to import path\n",
    "\n",
    "import sys \n",
    "sys.path.append(\"../../\")"
   ]
  },
  {
   "cell_type": "code",
   "execution_count": null,
   "id": "e4616300",
   "metadata": {},
   "outputs": [],
   "source": [
    "from thunder_ase.fireball import Fireball, MultiFireball\n",
    "import ase\n",
    "from ase.io.trajectory import Trajectory\n",
    "import numpy as np\n",
    "from ase.io import read\n",
    "from ase.units import kJ\n",
    "from ase.eos import EquationOfState"
   ]
  },
  {
   "cell_type": "markdown",
   "id": "0823d4c5",
   "metadata": {},
   "source": [
    "### parameters for Si crystal"
   ]
  },
  {
   "cell_type": "code",
   "execution_count": null,
   "id": "b3f0909a",
   "metadata": {},
   "outputs": [],
   "source": [
    "cell = np.array([[2.715000, 2.715000, 0.000000],\n",
    "                 [2.715000, 0.000000, 2.715000],\n",
    "                 [0.000000, 2.715000, 2.715000]])\n",
    "positions = np.array([[0.0000000, 0.0000000, 0.0000000],\n",
    "                      [1.3575000, 1.3575000, 1.3575000]])"
   ]
  },
  {
   "cell_type": "markdown",
   "id": "6d65de74",
   "metadata": {},
   "source": [
    "### parameters for fireball"
   ]
  },
  {
   "cell_type": "code",
   "execution_count": null,
   "id": "25547a5c",
   "metadata": {},
   "outputs": [],
   "source": [
    "# set Fdata dir\n",
    "Fdata_path='~/Fdata/Fdata-McWEDA-0.15-3SN.Sis4.8p5.35/'"
   ]
  },
  {
   "cell_type": "code",
   "execution_count": null,
   "id": "2ebcbd47",
   "metadata": {},
   "outputs": [],
   "source": [
    "kwargs = {'kpt_size': [3, 3, 3],\n",
    "          'efermi_T': 200.0,\n",
    "          }"
   ]
  },
  {
   "cell_type": "code",
   "execution_count": null,
   "id": "b4b3010f",
   "metadata": {},
   "outputs": [],
   "source": [
    "# scale the cell from 0.8 to 1.2\n",
    "cell_factors = np.linspace(0.8, 1.2, 8)"
   ]
  },
  {
   "cell_type": "markdown",
   "id": "c2b5f842",
   "metadata": {},
   "source": [
    "## Run Fireball\n",
    "\n",
    "There are two way to run fireball calculator\n",
    "\n",
    "* serial mode by Fireball calculator\n",
    "* multi-atoms mode by MultiFireball calculator\n",
    "\n",
    "We recommend multi-atoms mode, which saves Fdata reading time."
   ]
  },
  {
   "cell_type": "markdown",
   "id": "337f8b8f",
   "metadata": {},
   "source": [
    "### 1. Run fireball in series mode"
   ]
  },
  {
   "cell_type": "code",
   "execution_count": null,
   "id": "2d936913",
   "metadata": {},
   "outputs": [],
   "source": [
    "# save the trajectory during calculation\n",
    "\n",
    "traj = Trajectory('Si.traj', 'w')\n",
    "\n",
    "# main loop, will takes several minutes\n",
    "\n",
    "for cf in cell_factors:\n",
    "    atoms = ase.Atoms(numbers=[14, 14],\n",
    "                      cell=cell,\n",
    "                      pbc=True,\n",
    "                      positions=positions,\n",
    "                      )\n",
    "    atoms.set_cell(cell=cell*cf, scale_atoms=True)\n",
    "    calc = Fireball(command='~/bin/fireball-ase.3.x', \n",
    "                    Fdata_path=Fdata_path,\n",
    "                    **kwargs)\n",
    "    atoms.set_calculator(calc)\n",
    "    e0 = atoms.get_potential_energy()\n",
    "    traj.write(atoms)\n",
    "    print(\"The energy for cell factor {:.3f} is {:.3f}\".format(cf, e0))"
   ]
  },
  {
   "cell_type": "code",
   "execution_count": null,
   "id": "055424ba",
   "metadata": {},
   "outputs": [],
   "source": [
    "# read the atoms\n",
    "configs = read('Si.traj', index=':')\n",
    "volumes = [si.get_volume() for si in configs]\n",
    "energies = [si.get_potential_energy() for si in configs]\n",
    "# fit Equation of State\n",
    "eos = EquationOfState(volumes, energies)\n",
    "v0, e0, B = eos.fit()\n",
    "# plot result\n",
    "eos.plot()"
   ]
  },
  {
   "cell_type": "markdown",
   "id": "d0a9c0f2",
   "metadata": {},
   "source": [
    "### 2. Run fireball in multi-atoms mode"
   ]
  },
  {
   "cell_type": "code",
   "execution_count": null,
   "id": "2cf1f955",
   "metadata": {},
   "outputs": [],
   "source": [
    "atoms_list = []\n",
    "\n",
    "for cf in cell_factors:\n",
    "    atoms = ase.Atoms(numbers=[14, 14],\n",
    "                      cell=cell,\n",
    "                      pbc=True,\n",
    "                      positions=positions,\n",
    "                      )\n",
    "    atoms.set_cell(cell=cell*cf, scale_atoms=True)\n",
    "    calc = Fireball(command='~/bin/fireball-ase.3.x', \n",
    "                    Fdata_path=Fdata_path,\n",
    "                    **kwargs)\n",
    "    atoms.set_calculator(calc)\n",
    "    atoms_list.append(atoms)\n",
    "\n",
    "# set up multi-fireball calculator\n",
    "\n",
    "multi_calc = MultiFireball(atoms_list=atoms_list)\n",
    "multi_calc.write_input()\n",
    "multi_calc.calculate()\n",
    "\n",
    "# save the trajectory during calculation\n",
    "\n",
    "traj = Trajectory('Si_multicalc.traj', 'w')\n",
    "_ = [traj.write(atoms)  for atoms in atoms_list]\n",
    "\n",
    "# print e0\n",
    "e0_list = [atoms.get_potential_energy() for atoms in atoms_list]\n",
    "for cf, e0 in zip(cell_factors, e0_list):\n",
    "    print(\"The energy for cell factor {:.3f} is {:.3f}\".format(cf, e0)) "
   ]
  },
  {
   "cell_type": "code",
   "execution_count": null,
   "id": "39a7fdf5",
   "metadata": {},
   "outputs": [],
   "source": [
    "# read the atoms\n",
    "configs = read('Si_multicalc.traj', index=':')\n",
    "volumes = [si.get_volume() for si in configs]\n",
    "energies = [si.get_potential_energy() for si in configs]\n",
    "# fit Equation of State\n",
    "eos = EquationOfState(volumes, energies)\n",
    "v0, e0, B = eos.fit()\n",
    "# plot result\n",
    "eos.plot()"
   ]
  }
 ],
 "metadata": {
  "kernelspec": {
   "display_name": "Python [conda env:fireball_calculator]",
   "language": "python",
   "name": "conda-env-fireball_calculator-py"
  },
  "language_info": {
   "codemirror_mode": {
    "name": "ipython",
    "version": 3
   },
   "file_extension": ".py",
   "mimetype": "text/x-python",
   "name": "python",
   "nbconvert_exporter": "python",
   "pygments_lexer": "ipython3",
   "version": "3.9.15"
  }
 },
 "nbformat": 4,
 "nbformat_minor": 5
}
