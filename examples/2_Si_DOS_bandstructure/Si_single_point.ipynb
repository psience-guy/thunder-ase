{
 "cells": [
  {
   "cell_type": "code",
   "execution_count": null,
   "id": "7d9ffed8",
   "metadata": {},
   "outputs": [],
   "source": [
    "import os"
   ]
  },
  {
   "cell_type": "code",
   "execution_count": null,
   "id": "39766057",
   "metadata": {},
   "outputs": [],
   "source": [
    "# clean last run result\n",
    "\n",
    "!('./clean.sh')"
   ]
  },
  {
   "cell_type": "code",
   "execution_count": null,
   "id": "8b11d060",
   "metadata": {},
   "outputs": [],
   "source": [
    "# add the package to import path\n",
    "\n",
    "import sys \n",
    "sys.path.append(\"../../\")"
   ]
  },
  {
   "cell_type": "code",
   "execution_count": null,
   "id": "e4616300",
   "metadata": {},
   "outputs": [],
   "source": [
    "from thunder_ase.fireball import Fireball\n",
    "import numpy as np\n",
    "import ase"
   ]
  },
  {
   "cell_type": "markdown",
   "id": "0823d4c5",
   "metadata": {},
   "source": [
    "### parameters for Si crystal"
   ]
  },
  {
   "cell_type": "code",
   "execution_count": null,
   "id": "8258aa87",
   "metadata": {},
   "outputs": [],
   "source": [
    "from ase.build import bulk"
   ]
  },
  {
   "cell_type": "code",
   "execution_count": null,
   "id": "90588a28",
   "metadata": {},
   "outputs": [],
   "source": [
    "atoms = bulk('Si', 'diamond', a=5.459)"
   ]
  },
  {
   "cell_type": "code",
   "execution_count": null,
   "id": "25547a5c",
   "metadata": {},
   "outputs": [],
   "source": [
    "# set Fdata dir\n",
    "Fdata_path='~/Fdata/Fdata-McWEDA-0.15-3SN.Sis4.8p5.35/'"
   ]
  },
  {
   "cell_type": "markdown",
   "id": "6d65de74",
   "metadata": {},
   "source": [
    "### parameters for fireball"
   ]
  },
  {
   "cell_type": "code",
   "execution_count": null,
   "id": "2ebcbd47",
   "metadata": {},
   "outputs": [],
   "source": [
    "kwargs = {'kpt_size': [5, 5, 5],\n",
    "          }"
   ]
  },
  {
   "cell_type": "markdown",
   "id": "c2b5f842",
   "metadata": {},
   "source": [
    "### Run Fireball"
   ]
  },
  {
   "cell_type": "code",
   "execution_count": null,
   "id": "bf376a3f",
   "metadata": {},
   "outputs": [],
   "source": [
    "calc = Fireball(command='fireball-ase.3.x', \n",
    "                Fdata_path=Fdata_path,\n",
    "                **kwargs)\n",
    "atoms.set_calculator(calc)"
   ]
  },
  {
   "cell_type": "code",
   "execution_count": null,
   "id": "2d936913",
   "metadata": {},
   "outputs": [],
   "source": [
    "# Running this line will take about 1 min\n",
    "e0 = atoms.get_potential_energy()\n",
    "efermi = atoms.calc.get_fermi_level()\n",
    "\n",
    "print(\"The energy is {:.3f} eV.\".format(e0))\n",
    "print(\"The Fermi Level is {:.3f} eV.\".format(efermi))"
   ]
  },
  {
   "cell_type": "markdown",
   "id": "ea1eaf62",
   "metadata": {},
   "source": [
    "### DOS plot"
   ]
  },
  {
   "cell_type": "code",
   "execution_count": null,
   "id": "4abf27c0",
   "metadata": {},
   "outputs": [],
   "source": [
    "from ase.dft import DOS"
   ]
  },
  {
   "cell_type": "code",
   "execution_count": null,
   "id": "db9e1f60",
   "metadata": {},
   "outputs": [],
   "source": [
    "dos = DOS(calc, width=0.2, window=[-8,4], npts=1000)"
   ]
  },
  {
   "cell_type": "code",
   "execution_count": null,
   "id": "dd2bd0af",
   "metadata": {},
   "outputs": [],
   "source": [
    "d = dos.get_dos()\n",
    "e = dos.get_energies()"
   ]
  },
  {
   "cell_type": "code",
   "execution_count": null,
   "id": "1b085a35",
   "metadata": {},
   "outputs": [],
   "source": [
    "import matplotlib.pyplot as plt"
   ]
  },
  {
   "cell_type": "code",
   "execution_count": null,
   "id": "63d46039",
   "metadata": {},
   "outputs": [],
   "source": [
    "plt.plot(e, d)\n",
    "plt.xlabel('energy [eV]')\n",
    "plt.ylabel('DOS')"
   ]
  },
  {
   "cell_type": "markdown",
   "id": "36f4d80e",
   "metadata": {},
   "source": [
    "### Band structure calculation"
   ]
  },
  {
   "cell_type": "code",
   "execution_count": null,
   "id": "83872fd3",
   "metadata": {},
   "outputs": [],
   "source": [
    "lat = atoms.cell.get_bravais_lattice()\n",
    "print(list(lat.get_special_points()))"
   ]
  },
  {
   "cell_type": "code",
   "execution_count": null,
   "id": "7f1b5cdc",
   "metadata": {},
   "outputs": [],
   "source": [
    "path = lat.bandpath(path=\"LGXU,KG\",npoints=200)"
   ]
  },
  {
   "cell_type": "code",
   "execution_count": null,
   "id": "3dbd5a82",
   "metadata": {},
   "outputs": [],
   "source": [
    "print(path.path)"
   ]
  },
  {
   "cell_type": "code",
   "execution_count": null,
   "id": "969af021",
   "metadata": {},
   "outputs": [],
   "source": [
    "kwargs = {'kpt_path': path,  # VIP for band structure calculation.\n",
    "          'taurelax': 5.0,\n",
    "          'efermi_T': 200.0,\n",
    "          'ifix_CHARGES': 1,  # VIP, fix previous charges\n",
    "          'beta_set': 0.04,\n",
    "          }"
   ]
  },
  {
   "cell_type": "code",
   "execution_count": null,
   "id": "7252eaf6",
   "metadata": {},
   "outputs": [],
   "source": [
    "calc = Fireball(command='/home/ren/bin/lightning.3.x', \n",
    "                Fdata_path=Fdata_path,\n",
    "                **kwargs)\n",
    "atoms.set_calculator(calc)"
   ]
  },
  {
   "cell_type": "code",
   "execution_count": null,
   "id": "1b18cad4",
   "metadata": {},
   "outputs": [],
   "source": [
    "bs = atoms.calc.band_structure(atoms, reference=efermi) # Note: should use the scf fermi level"
   ]
  },
  {
   "cell_type": "code",
   "execution_count": null,
   "id": "41cb833b",
   "metadata": {},
   "outputs": [],
   "source": [
    "bs.subtract_reference().plot(emin=-15, emax=10)"
   ]
  },
  {
   "cell_type": "markdown",
   "id": "0818075e",
   "metadata": {},
   "source": [
    "Ref: https://commons.wikimedia.org/wiki/File:Band_structure_Si_schematic.svg\n",
    "\n",
    "![](https://upload.wikimedia.org/wikipedia/commons/thumb/0/04/Band_structure_Si_schematic.svg/580px-Band_structure_Si_schematic.svg.png)"
   ]
  },
  {
   "cell_type": "markdown",
   "id": "dc7c677f",
   "metadata": {},
   "source": [
    "Ref: http://lampx.tugraz.at/~hadley/ss1/semiconductors/Si_bandstructure.png\n",
    "\n",
    "![](http://lampx.tugraz.at/~hadley/ss1/semiconductors/Si_bandstructure.png)"
   ]
  },
  {
   "cell_type": "code",
   "execution_count": null,
   "id": "6229f56c",
   "metadata": {},
   "outputs": [],
   "source": []
  }
 ],
 "metadata": {
  "kernelspec": {
   "display_name": "Python [conda env:fireball_calculator]",
   "language": "python",
   "name": "conda-env-fireball_calculator-py"
  },
  "language_info": {
   "codemirror_mode": {
    "name": "ipython",
    "version": 3
   },
   "file_extension": ".py",
   "mimetype": "text/x-python",
   "name": "python",
   "nbconvert_exporter": "python",
   "pygments_lexer": "ipython3",
   "version": "3.9.15"
  }
 },
 "nbformat": 4,
 "nbformat_minor": 5
}
