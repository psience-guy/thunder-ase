{
 "cells": [
  {
   "cell_type": "markdown",
   "id": "c0dcf59a",
   "metadata": {},
   "source": [
    "### Clean old results"
   ]
  },
  {
   "cell_type": "code",
   "execution_count": null,
   "id": "7750deeb",
   "metadata": {},
   "outputs": [],
   "source": [
    "import os"
   ]
  },
  {
   "cell_type": "code",
   "execution_count": null,
   "id": "47eebab2",
   "metadata": {},
   "outputs": [],
   "source": [
    "for f in [\n",
    "          '001.inp',\n",
    "          'Fdata.inp',\n",
    "          'structures.inp',\n",
    "          '001.KPOINTS',\n",
    "]:\n",
    "    if os.path.isfile(f) or os.path.islink(f):\n",
    "        os.remove(f)"
   ]
  },
  {
   "cell_type": "code",
   "execution_count": null,
   "id": "8d37cac1",
   "metadata": {},
   "outputs": [],
   "source": [
    "# add the package to import path\n",
    "\n",
    "import sys \n",
    "sys.path.append(\"../../\")"
   ]
  },
  {
   "cell_type": "code",
   "execution_count": null,
   "id": "49085dcd",
   "metadata": {},
   "outputs": [],
   "source": [
    "from thunder_ase.fireball import GenerateFireballInput, Fireball"
   ]
  },
  {
   "cell_type": "code",
   "execution_count": null,
   "id": "a039d4c0",
   "metadata": {},
   "outputs": [],
   "source": [
    "import ase\n",
    "import numpy as np"
   ]
  },
  {
   "cell_type": "code",
   "execution_count": null,
   "id": "eb597f7d",
   "metadata": {},
   "outputs": [],
   "source": [
    "kwargs = {'kpt_size': [2, 2, 2],\n",
    "          'iwriteout_ME_SandH': 0,\n",
    "          'iwriteout_density': 0,\n",
    "          'iwriteout_cdcoeffs': 0,\n",
    "          'iwriteout_charges': 1,\n",
    "          'iwriteout_energies': 0,\n",
    "          'iwriteout_populations': 0,\n",
    "          'iwriteout_forces': 1,\n",
    "          'iwriteout_neighbors': 0,\n",
    "          'iwriteout_dos': 0,\n",
    "          'iwriteout_abs': 0,\n",
    "          'iwriteout_ewf': 0,\n",
    "          'nstepi': 1,\n",
    "          'nstepf': 100,\n",
    "          'iquench': -3,\n",
    "          'T_initial': 0.0,\n",
    "          'T_final': 0.0,\n",
    "          'T_want': 0.0,\n",
    "          'taurelax': 5.0,\n",
    "          'efermi_T': 200.0,\n",
    "          'dt': 1.00,\n",
    "          'iensemble': 0,\n",
    "          'iconstraint_rcm': 1,\n",
    "          'iconstraint_vcm': 1,\n",
    "          'iconstraint_L': 0,\n",
    "          'iconstraint_KE': 1,\n",
    "          'ifix_neighbors': 0,\n",
    "          'ifix_CHARGES': 0,\n",
    "          'max_scf_iterations_set': 100,\n",
    "          'scf_tolerance_set': 0.00000001,\n",
    "          'beta_set': 0.04,\n",
    "          'Ecut_set': 200.0,\n",
    "          'rho_surface_min': 0.0005,\n",
    "          'rho_surface_max': 0.01000000,\n",
    "          }\n",
    "\n",
    "atoms = ase.Atoms('N2', pbc=True, cell=np.eye(3)*10)"
   ]
  },
  {
   "cell_type": "markdown",
   "id": "348931df",
   "metadata": {},
   "source": [
    "### test write of GenerateFireballInput"
   ]
  },
  {
   "cell_type": "code",
   "execution_count": null,
   "id": "dbb25663",
   "metadata": {},
   "outputs": [],
   "source": [
    "writer = GenerateFireballInput(atoms, **kwargs)"
   ]
  },
  {
   "cell_type": "code",
   "execution_count": null,
   "id": "8fac9e97",
   "metadata": {},
   "outputs": [],
   "source": [
    "writer.write_options()\n",
    "writer.write_atoms(pbc=atoms.pbc)\n",
    "writer.write_kpts()"
   ]
  },
  {
   "cell_type": "markdown",
   "id": "f236b105",
   "metadata": {},
   "source": [
    "This will generate 3 files: '001.inp', 'structures.inp', '001.KPOINTS'"
   ]
  },
  {
   "cell_type": "markdown",
   "id": "6b1e49df",
   "metadata": {},
   "source": [
    "### test read of GenerateFireballInput"
   ]
  },
  {
   "cell_type": "code",
   "execution_count": null,
   "id": "82f42ffc",
   "metadata": {},
   "outputs": [],
   "source": [
    "reader = GenerateFireballInput()"
   ]
  },
  {
   "cell_type": "code",
   "execution_count": null,
   "id": "a7df6ca9",
   "metadata": {},
   "outputs": [],
   "source": [
    "reader.read_kpts('001.KPOINTS')\n",
    "print(reader.get_kpoints())   # results in a list of kpts and weights"
   ]
  },
  {
   "cell_type": "code",
   "execution_count": null,
   "id": "6684c5b6",
   "metadata": {},
   "outputs": [],
   "source": [
    "reader.read_options()\n",
    "print(reader.output_params)\n",
    "print(reader.options_params)\n",
    "print(reader.xsfoptions_params)"
   ]
  },
  {
   "cell_type": "code",
   "execution_count": null,
   "id": "ad866f7e",
   "metadata": {},
   "outputs": [],
   "source": []
  }
 ],
 "metadata": {
  "kernelspec": {
   "display_name": "Python [conda env:fireball_calculator]",
   "language": "python",
   "name": "conda-env-fireball_calculator-py"
  },
  "language_info": {
   "codemirror_mode": {
    "name": "ipython",
    "version": 3
   },
   "file_extension": ".py",
   "mimetype": "text/x-python",
   "name": "python",
   "nbconvert_exporter": "python",
   "pygments_lexer": "ipython3",
   "version": "3.9.15"
  }
 },
 "nbformat": 4,
 "nbformat_minor": 5
}
